{
 "cells": [
  {
   "cell_type": "code",
   "execution_count": 1,
   "metadata": {},
   "outputs": [],
   "source": [
    "import pandas as pd\n",
    "#from datetime import datetime"
   ]
  },
  {
   "cell_type": "code",
   "execution_count": 2,
   "metadata": {},
   "outputs": [],
   "source": [
    "CSV_FILE = 'data/Binance_BTCUSDT_1h.csv'"
   ]
  },
  {
   "cell_type": "code",
   "execution_count": 3,
   "metadata": {},
   "outputs": [
    {
     "data": {
      "text/html": [
       "<div>\n",
       "<style scoped>\n",
       "    .dataframe tbody tr th:only-of-type {\n",
       "        vertical-align: middle;\n",
       "    }\n",
       "\n",
       "    .dataframe tbody tr th {\n",
       "        vertical-align: top;\n",
       "    }\n",
       "\n",
       "    .dataframe thead th {\n",
       "        text-align: right;\n",
       "    }\n",
       "</style>\n",
       "<table border=\"1\" class=\"dataframe\">\n",
       "  <thead>\n",
       "    <tr style=\"text-align: right;\">\n",
       "      <th></th>\n",
       "      <th>O</th>\n",
       "      <th>H</th>\n",
       "      <th>L</th>\n",
       "      <th>C</th>\n",
       "      <th>V</th>\n",
       "    </tr>\n",
       "    <tr>\n",
       "      <th>T</th>\n",
       "      <th></th>\n",
       "      <th></th>\n",
       "      <th></th>\n",
       "      <th></th>\n",
       "      <th></th>\n",
       "    </tr>\n",
       "  </thead>\n",
       "  <tbody>\n",
       "    <tr>\n",
       "      <th>2018-10-28 16:00:00</th>\n",
       "      <td>6487.01</td>\n",
       "      <td>6495.04</td>\n",
       "      <td>6475.00</td>\n",
       "      <td>6494.55</td>\n",
       "      <td>1879872.85</td>\n",
       "    </tr>\n",
       "    <tr>\n",
       "      <th>2018-10-28 17:00:00</th>\n",
       "      <td>6494.55</td>\n",
       "      <td>6503.39</td>\n",
       "      <td>6485.58</td>\n",
       "      <td>6488.51</td>\n",
       "      <td>1534249.85</td>\n",
       "    </tr>\n",
       "    <tr>\n",
       "      <th>2018-10-28 18:00:00</th>\n",
       "      <td>6488.51</td>\n",
       "      <td>6491.94</td>\n",
       "      <td>6475.00</td>\n",
       "      <td>6477.26</td>\n",
       "      <td>1627718.81</td>\n",
       "    </tr>\n",
       "    <tr>\n",
       "      <th>2018-10-28 19:00:00</th>\n",
       "      <td>6477.26</td>\n",
       "      <td>6492.02</td>\n",
       "      <td>6465.00</td>\n",
       "      <td>6468.65</td>\n",
       "      <td>1606915.08</td>\n",
       "    </tr>\n",
       "    <tr>\n",
       "      <th>2018-10-28 20:00:00</th>\n",
       "      <td>6468.65</td>\n",
       "      <td>6480.00</td>\n",
       "      <td>6453.00</td>\n",
       "      <td>6480.00</td>\n",
       "      <td>1422598.34</td>\n",
       "    </tr>\n",
       "  </tbody>\n",
       "</table>\n",
       "</div>"
      ],
      "text/plain": [
       "                           O        H        L        C           V\n",
       "T                                                                  \n",
       "2018-10-28 16:00:00  6487.01  6495.04  6475.00  6494.55  1879872.85\n",
       "2018-10-28 17:00:00  6494.55  6503.39  6485.58  6488.51  1534249.85\n",
       "2018-10-28 18:00:00  6488.51  6491.94  6475.00  6477.26  1627718.81\n",
       "2018-10-28 19:00:00  6477.26  6492.02  6465.00  6468.65  1606915.08\n",
       "2018-10-28 20:00:00  6468.65  6480.00  6453.00  6480.00  1422598.34"
      ]
     },
     "execution_count": 3,
     "metadata": {},
     "output_type": "execute_result"
    }
   ],
   "source": [
    "df = pd.read_csv(CSV_FILE, header=1, index_col=0,\n",
    "                 usecols=[0, 2, 3, 4, 5, 7],\n",
    "                 )  #, parse_dates=True, infer_datetime_format=True)\n",
    "df.index = pd.to_datetime(df.index, format='%Y-%m-%d %I-%p')\n",
    "#df.index = df.apply(lambda x: datetime.strptime(x.name, '%Y-%m-%d %I-%p'), axis=1)\n",
    "#df.index = pd.Series(df.index).apply(lambda x: datetime.strptime(x, '%Y-%m-%d %I-%p'))\n",
    "df = df.sort_index()\n",
    "df = df.rename(columns={'Open':'O', 'High':'H', 'Low':'L', 'Close':'C', 'Volume To':'V'})\n",
    "df.index.name = 'T'  # Time\n",
    "df.tail()"
   ]
  },
  {
   "cell_type": "code",
   "execution_count": null,
   "metadata": {},
   "outputs": [],
   "source": []
  }
 ],
 "metadata": {
  "kernelspec": {
   "display_name": "Python 2",
   "language": "python",
   "name": "python2"
  },
  "language_info": {
   "codemirror_mode": {
    "name": "ipython",
    "version": 2
   },
   "file_extension": ".py",
   "mimetype": "text/x-python",
   "name": "python",
   "nbconvert_exporter": "python",
   "pygments_lexer": "ipython2",
   "version": "2.7.15"
  }
 },
 "nbformat": 4,
 "nbformat_minor": 2
}
